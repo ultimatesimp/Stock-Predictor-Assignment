{
 "cells": [
  {
   "cell_type": "code",
   "execution_count": 1,
   "metadata": {
    "_cell_guid": "b1076dfc-b9ad-4769-8c92-a6c4dae69d19",
    "_uuid": "8f2839f25d086af736a60e9eeb907d3b93b6e0e5",
    "execution": {
     "iopub.execute_input": "2021-11-06T13:26:35.598473Z",
     "iopub.status.busy": "2021-11-06T13:26:35.596624Z",
     "iopub.status.idle": "2021-11-06T13:26:35.625456Z",
     "shell.execute_reply": "2021-11-06T13:26:35.626004Z",
     "shell.execute_reply.started": "2021-11-06T13:15:37.559632Z"
    },
    "papermill": {
     "duration": 0.072389,
     "end_time": "2021-11-06T13:26:35.626377",
     "exception": false,
     "start_time": "2021-11-06T13:26:35.553988",
     "status": "completed"
    },
    "tags": []
   },
   "outputs": [],
   "source": [
    "\n",
    "import numpy as np # linear algebra\n",
    "import pandas as pd # data processing, CSV file I/O (e.g. pd.read_csv)\n",
    "import matplotlib.pyplot as plt\n",
    "import os\n",
    "for dirname, _, filenames in os.walk('/kaggle/input'):\n",
    "    for filename in filenames:\n",
    "        print(os.path.join(dirname, filename))\n"
   ]
  },
  {
   "cell_type": "code",
   "execution_count": 2,
   "metadata": {
    "execution": {
     "iopub.execute_input": "2021-11-06T13:26:35.706646Z",
     "iopub.status.busy": "2021-11-06T13:26:35.705777Z",
     "iopub.status.idle": "2021-11-06T13:26:35.736696Z",
     "shell.execute_reply": "2021-11-06T13:26:35.737411Z",
     "shell.execute_reply.started": "2021-11-06T13:15:37.576089Z"
    },
    "papermill": {
     "duration": 0.074033,
     "end_time": "2021-11-06T13:26:35.737669",
     "exception": false,
     "start_time": "2021-11-06T13:26:35.663636",
     "status": "completed"
    },
    "tags": []
   },
   "outputs": [],
   "source": [
    "train = pd.read_csv('train.csv')\n",
    "test = pd.read_csv('test.csv')"
   ]
  },
  {
   "cell_type": "markdown",
   "metadata": {
    "papermill": {
     "duration": 0.036491,
     "end_time": "2021-11-06T13:26:35.811424",
     "exception": false,
     "start_time": "2021-11-06T13:26:35.774933",
     "status": "completed"
    },
    "tags": []
   },
   "source": [
    "**EDA**"
   ]
  },
  {
   "cell_type": "code",
   "execution_count": 3,
   "metadata": {
    "execution": {
     "iopub.execute_input": "2021-11-06T13:26:35.893958Z",
     "iopub.status.busy": "2021-11-06T13:26:35.893269Z",
     "iopub.status.idle": "2021-11-06T13:26:35.924248Z",
     "shell.execute_reply": "2021-11-06T13:26:35.924758Z",
     "shell.execute_reply.started": "2021-11-06T13:15:37.600278Z"
    },
    "papermill": {
     "duration": 0.076386,
     "end_time": "2021-11-06T13:26:35.924955",
     "exception": false,
     "start_time": "2021-11-06T13:26:35.848569",
     "status": "completed"
    },
    "tags": []
   },
   "outputs": [
    {
     "data": {
      "text/html": [
       "<div>\n",
       "<style scoped>\n",
       "    .dataframe tbody tr th:only-of-type {\n",
       "        vertical-align: middle;\n",
       "    }\n",
       "\n",
       "    .dataframe tbody tr th {\n",
       "        vertical-align: top;\n",
       "    }\n",
       "\n",
       "    .dataframe thead th {\n",
       "        text-align: right;\n",
       "    }\n",
       "</style>\n",
       "<table border=\"1\" class=\"dataframe\">\n",
       "  <thead>\n",
       "    <tr style=\"text-align: right;\">\n",
       "      <th></th>\n",
       "      <th>Date</th>\n",
       "      <th>Open</th>\n",
       "      <th>High</th>\n",
       "      <th>Low</th>\n",
       "      <th>Volume</th>\n",
       "      <th>Close</th>\n",
       "    </tr>\n",
       "  </thead>\n",
       "  <tbody>\n",
       "    <tr>\n",
       "      <th>0</th>\n",
       "      <td>14-08-2015</td>\n",
       "      <td>57.484790</td>\n",
       "      <td>58.398406</td>\n",
       "      <td>57.342469</td>\n",
       "      <td>171718000</td>\n",
       "      <td>58.237720</td>\n",
       "    </tr>\n",
       "    <tr>\n",
       "      <th>1</th>\n",
       "      <td>17-08-2015</td>\n",
       "      <td>58.274453</td>\n",
       "      <td>59.013611</td>\n",
       "      <td>58.026536</td>\n",
       "      <td>163538800</td>\n",
       "      <td>58.788651</td>\n",
       "    </tr>\n",
       "    <tr>\n",
       "      <th>2</th>\n",
       "      <td>18-08-2015</td>\n",
       "      <td>58.453501</td>\n",
       "      <td>58.917197</td>\n",
       "      <td>58.260678</td>\n",
       "      <td>138242800</td>\n",
       "      <td>58.485638</td>\n",
       "    </tr>\n",
       "    <tr>\n",
       "      <th>3</th>\n",
       "      <td>19-08-2015</td>\n",
       "      <td>58.301997</td>\n",
       "      <td>58.494820</td>\n",
       "      <td>57.650069</td>\n",
       "      <td>193146000</td>\n",
       "      <td>57.801575</td>\n",
       "    </tr>\n",
       "    <tr>\n",
       "      <th>4</th>\n",
       "      <td>20-08-2015</td>\n",
       "      <td>57.374601</td>\n",
       "      <td>57.498558</td>\n",
       "      <td>56.249794</td>\n",
       "      <td>274006400</td>\n",
       "      <td>56.718082</td>\n",
       "    </tr>\n",
       "    <tr>\n",
       "      <th>...</th>\n",
       "      <td>...</td>\n",
       "      <td>...</td>\n",
       "      <td>...</td>\n",
       "      <td>...</td>\n",
       "      <td>...</td>\n",
       "      <td>...</td>\n",
       "    </tr>\n",
       "    <tr>\n",
       "      <th>1495</th>\n",
       "      <td>23-07-2021</td>\n",
       "      <td>299.658540</td>\n",
       "      <td>301.995035</td>\n",
       "      <td>298.400415</td>\n",
       "      <td>71447400</td>\n",
       "      <td>301.675507</td>\n",
       "    </tr>\n",
       "    <tr>\n",
       "      <th>1496</th>\n",
       "      <td>26-07-2021</td>\n",
       "      <td>301.096392</td>\n",
       "      <td>304.211720</td>\n",
       "      <td>299.958083</td>\n",
       "      <td>72434100</td>\n",
       "      <td>302.534241</td>\n",
       "    </tr>\n",
       "    <tr>\n",
       "      <th>1497</th>\n",
       "      <td>27-07-2021</td>\n",
       "      <td>302.793811</td>\n",
       "      <td>302.973565</td>\n",
       "      <td>295.664509</td>\n",
       "      <td>104818600</td>\n",
       "      <td>298.100861</td>\n",
       "    </tr>\n",
       "    <tr>\n",
       "      <th>1498</th>\n",
       "      <td>28-07-2021</td>\n",
       "      <td>294.186727</td>\n",
       "      <td>298.500271</td>\n",
       "      <td>289.653510</td>\n",
       "      <td>118931200</td>\n",
       "      <td>294.526215</td>\n",
       "    </tr>\n",
       "    <tr>\n",
       "      <th>1499</th>\n",
       "      <td>29-07-2021</td>\n",
       "      <td>293.947087</td>\n",
       "      <td>297.661523</td>\n",
       "      <td>293.727415</td>\n",
       "      <td>56699500</td>\n",
       "      <td>295.844238</td>\n",
       "    </tr>\n",
       "  </tbody>\n",
       "</table>\n",
       "<p>1500 rows × 6 columns</p>\n",
       "</div>"
      ],
      "text/plain": [
       "            Date        Open        High         Low     Volume       Close\n",
       "0     14-08-2015   57.484790   58.398406   57.342469  171718000   58.237720\n",
       "1     17-08-2015   58.274453   59.013611   58.026536  163538800   58.788651\n",
       "2     18-08-2015   58.453501   58.917197   58.260678  138242800   58.485638\n",
       "3     19-08-2015   58.301997   58.494820   57.650069  193146000   57.801575\n",
       "4     20-08-2015   57.374601   57.498558   56.249794  274006400   56.718082\n",
       "...          ...         ...         ...         ...        ...         ...\n",
       "1495  23-07-2021  299.658540  301.995035  298.400415   71447400  301.675507\n",
       "1496  26-07-2021  301.096392  304.211720  299.958083   72434100  302.534241\n",
       "1497  27-07-2021  302.793811  302.973565  295.664509  104818600  298.100861\n",
       "1498  28-07-2021  294.186727  298.500271  289.653510  118931200  294.526215\n",
       "1499  29-07-2021  293.947087  297.661523  293.727415   56699500  295.844238\n",
       "\n",
       "[1500 rows x 6 columns]"
      ]
     },
     "execution_count": 3,
     "metadata": {},
     "output_type": "execute_result"
    }
   ],
   "source": [
    "train"
   ]
  },
  {
   "cell_type": "code",
   "execution_count": 4,
   "metadata": {
    "execution": {
     "iopub.execute_input": "2021-11-06T13:26:36.005907Z",
     "iopub.status.busy": "2021-11-06T13:26:36.005036Z",
     "iopub.status.idle": "2021-11-06T13:26:36.017334Z",
     "shell.execute_reply": "2021-11-06T13:26:36.017929Z",
     "shell.execute_reply.started": "2021-11-06T13:15:37.636620Z"
    },
    "papermill": {
     "duration": 0.055206,
     "end_time": "2021-11-06T13:26:36.018162",
     "exception": false,
     "start_time": "2021-11-06T13:26:35.962956",
     "status": "completed"
    },
    "tags": []
   },
   "outputs": [
    {
     "data": {
      "text/html": [
       "<div>\n",
       "<style scoped>\n",
       "    .dataframe tbody tr th:only-of-type {\n",
       "        vertical-align: middle;\n",
       "    }\n",
       "\n",
       "    .dataframe tbody tr th {\n",
       "        vertical-align: top;\n",
       "    }\n",
       "\n",
       "    .dataframe thead th {\n",
       "        text-align: right;\n",
       "    }\n",
       "</style>\n",
       "<table border=\"1\" class=\"dataframe\">\n",
       "  <thead>\n",
       "    <tr style=\"text-align: right;\">\n",
       "      <th></th>\n",
       "      <th>Date</th>\n",
       "      <th>Open</th>\n",
       "      <th>High</th>\n",
       "      <th>Low</th>\n",
       "      <th>Volume</th>\n",
       "      <th>Close</th>\n",
       "    </tr>\n",
       "  </thead>\n",
       "  <tbody>\n",
       "    <tr>\n",
       "      <th>0</th>\n",
       "      <td>14-08-2015</td>\n",
       "      <td>57.484790</td>\n",
       "      <td>58.398406</td>\n",
       "      <td>57.342469</td>\n",
       "      <td>171718000</td>\n",
       "      <td>58.237720</td>\n",
       "    </tr>\n",
       "    <tr>\n",
       "      <th>1</th>\n",
       "      <td>17-08-2015</td>\n",
       "      <td>58.274453</td>\n",
       "      <td>59.013611</td>\n",
       "      <td>58.026536</td>\n",
       "      <td>163538800</td>\n",
       "      <td>58.788651</td>\n",
       "    </tr>\n",
       "    <tr>\n",
       "      <th>2</th>\n",
       "      <td>18-08-2015</td>\n",
       "      <td>58.453501</td>\n",
       "      <td>58.917197</td>\n",
       "      <td>58.260678</td>\n",
       "      <td>138242800</td>\n",
       "      <td>58.485638</td>\n",
       "    </tr>\n",
       "    <tr>\n",
       "      <th>3</th>\n",
       "      <td>19-08-2015</td>\n",
       "      <td>58.301997</td>\n",
       "      <td>58.494820</td>\n",
       "      <td>57.650069</td>\n",
       "      <td>193146000</td>\n",
       "      <td>57.801575</td>\n",
       "    </tr>\n",
       "    <tr>\n",
       "      <th>4</th>\n",
       "      <td>20-08-2015</td>\n",
       "      <td>57.374601</td>\n",
       "      <td>57.498558</td>\n",
       "      <td>56.249794</td>\n",
       "      <td>274006400</td>\n",
       "      <td>56.718082</td>\n",
       "    </tr>\n",
       "  </tbody>\n",
       "</table>\n",
       "</div>"
      ],
      "text/plain": [
       "         Date       Open       High        Low     Volume      Close\n",
       "0  14-08-2015  57.484790  58.398406  57.342469  171718000  58.237720\n",
       "1  17-08-2015  58.274453  59.013611  58.026536  163538800  58.788651\n",
       "2  18-08-2015  58.453501  58.917197  58.260678  138242800  58.485638\n",
       "3  19-08-2015  58.301997  58.494820  57.650069  193146000  57.801575\n",
       "4  20-08-2015  57.374601  57.498558  56.249794  274006400  56.718082"
      ]
     },
     "execution_count": 4,
     "metadata": {},
     "output_type": "execute_result"
    }
   ],
   "source": [
    "train.head()"
   ]
  },
  {
   "cell_type": "code",
   "execution_count": 5,
   "metadata": {
    "execution": {
     "iopub.execute_input": "2021-11-06T13:26:36.099807Z",
     "iopub.status.busy": "2021-11-06T13:26:36.098945Z",
     "iopub.status.idle": "2021-11-06T13:26:36.111972Z",
     "shell.execute_reply": "2021-11-06T13:26:36.112624Z",
     "shell.execute_reply.started": "2021-11-06T13:15:37.654735Z"
    },
    "papermill": {
     "duration": 0.055856,
     "end_time": "2021-11-06T13:26:36.112827",
     "exception": false,
     "start_time": "2021-11-06T13:26:36.056971",
     "status": "completed"
    },
    "tags": []
   },
   "outputs": [
    {
     "data": {
      "text/html": [
       "<div>\n",
       "<style scoped>\n",
       "    .dataframe tbody tr th:only-of-type {\n",
       "        vertical-align: middle;\n",
       "    }\n",
       "\n",
       "    .dataframe tbody tr th {\n",
       "        vertical-align: top;\n",
       "    }\n",
       "\n",
       "    .dataframe thead th {\n",
       "        text-align: right;\n",
       "    }\n",
       "</style>\n",
       "<table border=\"1\" class=\"dataframe\">\n",
       "  <thead>\n",
       "    <tr style=\"text-align: right;\">\n",
       "      <th></th>\n",
       "      <th>Date</th>\n",
       "      <th>Open</th>\n",
       "      <th>High</th>\n",
       "      <th>Low</th>\n",
       "      <th>Volume</th>\n",
       "      <th>Close</th>\n",
       "    </tr>\n",
       "  </thead>\n",
       "  <tbody>\n",
       "    <tr>\n",
       "      <th>1495</th>\n",
       "      <td>23-07-2021</td>\n",
       "      <td>299.658540</td>\n",
       "      <td>301.995035</td>\n",
       "      <td>298.400415</td>\n",
       "      <td>71447400</td>\n",
       "      <td>301.675507</td>\n",
       "    </tr>\n",
       "    <tr>\n",
       "      <th>1496</th>\n",
       "      <td>26-07-2021</td>\n",
       "      <td>301.096392</td>\n",
       "      <td>304.211720</td>\n",
       "      <td>299.958083</td>\n",
       "      <td>72434100</td>\n",
       "      <td>302.534241</td>\n",
       "    </tr>\n",
       "    <tr>\n",
       "      <th>1497</th>\n",
       "      <td>27-07-2021</td>\n",
       "      <td>302.793811</td>\n",
       "      <td>302.973565</td>\n",
       "      <td>295.664509</td>\n",
       "      <td>104818600</td>\n",
       "      <td>298.100861</td>\n",
       "    </tr>\n",
       "    <tr>\n",
       "      <th>1498</th>\n",
       "      <td>28-07-2021</td>\n",
       "      <td>294.186727</td>\n",
       "      <td>298.500271</td>\n",
       "      <td>289.653510</td>\n",
       "      <td>118931200</td>\n",
       "      <td>294.526215</td>\n",
       "    </tr>\n",
       "    <tr>\n",
       "      <th>1499</th>\n",
       "      <td>29-07-2021</td>\n",
       "      <td>293.947087</td>\n",
       "      <td>297.661523</td>\n",
       "      <td>293.727415</td>\n",
       "      <td>56699500</td>\n",
       "      <td>295.844238</td>\n",
       "    </tr>\n",
       "  </tbody>\n",
       "</table>\n",
       "</div>"
      ],
      "text/plain": [
       "            Date        Open        High         Low     Volume       Close\n",
       "1495  23-07-2021  299.658540  301.995035  298.400415   71447400  301.675507\n",
       "1496  26-07-2021  301.096392  304.211720  299.958083   72434100  302.534241\n",
       "1497  27-07-2021  302.793811  302.973565  295.664509  104818600  298.100861\n",
       "1498  28-07-2021  294.186727  298.500271  289.653510  118931200  294.526215\n",
       "1499  29-07-2021  293.947087  297.661523  293.727415   56699500  295.844238"
      ]
     },
     "execution_count": 5,
     "metadata": {},
     "output_type": "execute_result"
    }
   ],
   "source": [
    "train.tail()"
   ]
  },
  {
   "cell_type": "code",
   "execution_count": 6,
   "metadata": {
    "execution": {
     "iopub.execute_input": "2021-11-06T13:26:36.195265Z",
     "iopub.status.busy": "2021-11-06T13:26:36.194440Z",
     "iopub.status.idle": "2021-11-06T13:26:36.199156Z",
     "shell.execute_reply": "2021-11-06T13:26:36.199694Z",
     "shell.execute_reply.started": "2021-11-06T13:15:37.673821Z"
    },
    "papermill": {
     "duration": 0.04717,
     "end_time": "2021-11-06T13:26:36.199882",
     "exception": false,
     "start_time": "2021-11-06T13:26:36.152712",
     "status": "completed"
    },
    "tags": []
   },
   "outputs": [
    {
     "data": {
      "text/plain": [
       "(1500, 6)"
      ]
     },
     "execution_count": 6,
     "metadata": {},
     "output_type": "execute_result"
    }
   ],
   "source": [
    "train.shape"
   ]
  },
  {
   "cell_type": "code",
   "execution_count": 7,
   "metadata": {
    "execution": {
     "iopub.execute_input": "2021-11-06T13:26:36.280998Z",
     "iopub.status.busy": "2021-11-06T13:26:36.280211Z",
     "iopub.status.idle": "2021-11-06T13:26:36.315714Z",
     "shell.execute_reply": "2021-11-06T13:26:36.316219Z",
     "shell.execute_reply.started": "2021-11-06T13:15:37.693083Z"
    },
    "papermill": {
     "duration": 0.077742,
     "end_time": "2021-11-06T13:26:36.316429",
     "exception": false,
     "start_time": "2021-11-06T13:26:36.238687",
     "status": "completed"
    },
    "tags": []
   },
   "outputs": [
    {
     "data": {
      "text/html": [
       "<div>\n",
       "<style scoped>\n",
       "    .dataframe tbody tr th:only-of-type {\n",
       "        vertical-align: middle;\n",
       "    }\n",
       "\n",
       "    .dataframe tbody tr th {\n",
       "        vertical-align: top;\n",
       "    }\n",
       "\n",
       "    .dataframe thead th {\n",
       "        text-align: right;\n",
       "    }\n",
       "</style>\n",
       "<table border=\"1\" class=\"dataframe\">\n",
       "  <thead>\n",
       "    <tr style=\"text-align: right;\">\n",
       "      <th></th>\n",
       "      <th>Open</th>\n",
       "      <th>High</th>\n",
       "      <th>Low</th>\n",
       "      <th>Volume</th>\n",
       "      <th>Close</th>\n",
       "    </tr>\n",
       "  </thead>\n",
       "  <tbody>\n",
       "    <tr>\n",
       "      <th>count</th>\n",
       "      <td>1500.000000</td>\n",
       "      <td>1500.000000</td>\n",
       "      <td>1500.000000</td>\n",
       "      <td>1.500000e+03</td>\n",
       "      <td>1500.000000</td>\n",
       "    </tr>\n",
       "    <tr>\n",
       "      <th>mean</th>\n",
       "      <td>117.962567</td>\n",
       "      <td>119.188406</td>\n",
       "      <td>116.766942</td>\n",
       "      <td>1.344507e+08</td>\n",
       "      <td>118.034245</td>\n",
       "    </tr>\n",
       "    <tr>\n",
       "      <th>std</th>\n",
       "      <td>69.605960</td>\n",
       "      <td>70.483358</td>\n",
       "      <td>68.640370</td>\n",
       "      <td>6.474265e+07</td>\n",
       "      <td>69.597154</td>\n",
       "    </tr>\n",
       "    <tr>\n",
       "      <th>min</th>\n",
       "      <td>46.975433</td>\n",
       "      <td>47.754310</td>\n",
       "      <td>46.728239</td>\n",
       "      <td>4.544800e+07</td>\n",
       "      <td>47.133999</td>\n",
       "    </tr>\n",
       "    <tr>\n",
       "      <th>25%</th>\n",
       "      <td>67.216725</td>\n",
       "      <td>67.603262</td>\n",
       "      <td>67.013241</td>\n",
       "      <td>9.138162e+07</td>\n",
       "      <td>67.464885</td>\n",
       "    </tr>\n",
       "    <tr>\n",
       "      <th>50%</th>\n",
       "      <td>91.015663</td>\n",
       "      <td>92.208971</td>\n",
       "      <td>90.564149</td>\n",
       "      <td>1.160496e+08</td>\n",
       "      <td>90.918922</td>\n",
       "    </tr>\n",
       "    <tr>\n",
       "      <th>75%</th>\n",
       "      <td>142.914154</td>\n",
       "      <td>144.374118</td>\n",
       "      <td>141.944432</td>\n",
       "      <td>1.581502e+08</td>\n",
       "      <td>143.038712</td>\n",
       "    </tr>\n",
       "    <tr>\n",
       "      <th>max</th>\n",
       "      <td>303.033493</td>\n",
       "      <td>304.551208</td>\n",
       "      <td>299.958083</td>\n",
       "      <td>6.488252e+08</td>\n",
       "      <td>302.853729</td>\n",
       "    </tr>\n",
       "  </tbody>\n",
       "</table>\n",
       "</div>"
      ],
      "text/plain": [
       "              Open         High          Low        Volume        Close\n",
       "count  1500.000000  1500.000000  1500.000000  1.500000e+03  1500.000000\n",
       "mean    117.962567   119.188406   116.766942  1.344507e+08   118.034245\n",
       "std      69.605960    70.483358    68.640370  6.474265e+07    69.597154\n",
       "min      46.975433    47.754310    46.728239  4.544800e+07    47.133999\n",
       "25%      67.216725    67.603262    67.013241  9.138162e+07    67.464885\n",
       "50%      91.015663    92.208971    90.564149  1.160496e+08    90.918922\n",
       "75%     142.914154   144.374118   141.944432  1.581502e+08   143.038712\n",
       "max     303.033493   304.551208   299.958083  6.488252e+08   302.853729"
      ]
     },
     "execution_count": 7,
     "metadata": {},
     "output_type": "execute_result"
    }
   ],
   "source": [
    "train.describe()"
   ]
  },
  {
   "cell_type": "code",
   "execution_count": 8,
   "metadata": {
    "execution": {
     "iopub.execute_input": "2021-11-06T13:26:36.398819Z",
     "iopub.status.busy": "2021-11-06T13:26:36.397940Z",
     "iopub.status.idle": "2021-11-06T13:26:36.413635Z",
     "shell.execute_reply": "2021-11-06T13:26:36.414296Z",
     "shell.execute_reply.started": "2021-11-06T13:15:37.731063Z"
    },
    "papermill": {
     "duration": 0.058921,
     "end_time": "2021-11-06T13:26:36.414499",
     "exception": false,
     "start_time": "2021-11-06T13:26:36.355578",
     "status": "completed"
    },
    "tags": []
   },
   "outputs": [
    {
     "name": "stdout",
     "output_type": "stream",
     "text": [
      "<class 'pandas.core.frame.DataFrame'>\n",
      "RangeIndex: 1500 entries, 0 to 1499\n",
      "Data columns (total 6 columns):\n",
      " #   Column  Non-Null Count  Dtype  \n",
      "---  ------  --------------  -----  \n",
      " 0   Date    1500 non-null   object \n",
      " 1   Open    1500 non-null   float64\n",
      " 2   High    1500 non-null   float64\n",
      " 3   Low     1500 non-null   float64\n",
      " 4   Volume  1500 non-null   int64  \n",
      " 5   Close   1500 non-null   float64\n",
      "dtypes: float64(4), int64(1), object(1)\n",
      "memory usage: 70.4+ KB\n"
     ]
    }
   ],
   "source": [
    "train.info()"
   ]
  },
  {
   "cell_type": "code",
   "execution_count": 9,
   "metadata": {
    "execution": {
     "iopub.execute_input": "2021-11-06T13:26:36.582705Z",
     "iopub.status.busy": "2021-11-06T13:26:36.581874Z",
     "iopub.status.idle": "2021-11-06T13:26:36.605709Z",
     "shell.execute_reply": "2021-11-06T13:26:36.606277Z",
     "shell.execute_reply.started": "2021-11-06T13:15:37.747450Z"
    },
    "papermill": {
     "duration": 0.067619,
     "end_time": "2021-11-06T13:26:36.606510",
     "exception": false,
     "start_time": "2021-11-06T13:26:36.538891",
     "status": "completed"
    },
    "tags": []
   },
   "outputs": [],
   "source": [
    "# Convert all dates to datetime\n",
    "from datetime import *\n",
    "\n",
    "for i in train['Date']:\n",
    "    i = datetime.strptime(i, '%d-%m-%Y')"
   ]
  },
  {
   "cell_type": "markdown",
   "metadata": {
    "papermill": {
     "duration": 0.039847,
     "end_time": "2021-11-06T13:26:36.686398",
     "exception": false,
     "start_time": "2021-11-06T13:26:36.646551",
     "status": "completed"
    },
    "tags": []
   },
   "source": [
    "**Augmented Dickey Fuller Test**"
   ]
  },
  {
   "cell_type": "code",
   "execution_count": 10,
   "metadata": {
    "execution": {
     "iopub.execute_input": "2021-11-06T13:26:36.769700Z",
     "iopub.status.busy": "2021-11-06T13:26:36.768887Z",
     "iopub.status.idle": "2021-11-06T13:26:37.901579Z",
     "shell.execute_reply": "2021-11-06T13:26:37.900730Z",
     "shell.execute_reply.started": "2021-11-06T13:15:37.770202Z"
    },
    "papermill": {
     "duration": 1.175844,
     "end_time": "2021-11-06T13:26:37.901754",
     "exception": false,
     "start_time": "2021-11-06T13:26:36.725910",
     "status": "completed"
    },
    "tags": []
   },
   "outputs": [],
   "source": [
    "from statsmodels.tsa.stattools import adfuller"
   ]
  },
  {
   "cell_type": "code",
   "execution_count": 11,
   "metadata": {
    "execution": {
     "iopub.execute_input": "2021-11-06T13:26:37.991863Z",
     "iopub.status.busy": "2021-11-06T13:26:37.991052Z",
     "iopub.status.idle": "2021-11-06T13:26:37.992588Z",
     "shell.execute_reply": "2021-11-06T13:26:37.993144Z",
     "shell.execute_reply.started": "2021-11-06T13:15:37.778167Z"
    },
    "papermill": {
     "duration": 0.049412,
     "end_time": "2021-11-06T13:26:37.993350",
     "exception": false,
     "start_time": "2021-11-06T13:26:37.943938",
     "status": "completed"
    },
    "tags": []
   },
   "outputs": [],
   "source": [
    "def adfTest(dataframe, column_name):\n",
    "    result = adfuller(dataframe[column_name])\n",
    "    print(i)\n",
    "    print('ADF Statistic: %f' % result[0])\n",
    "    print('p-value: %f' % result[1])\n",
    "    if result[0] < result[4][\"5%\"]:\n",
    "        print (\"Reject Ho - Time Series is Stationary\")\n",
    "    else:\n",
    "        print (\"Failed to Reject Ho - Time Series is Non-Stationary\")\n",
    "    print('\\n')"
   ]
  },
  {
   "cell_type": "code",
   "execution_count": 12,
   "metadata": {
    "execution": {
     "iopub.execute_input": "2021-11-06T13:26:38.077966Z",
     "iopub.status.busy": "2021-11-06T13:26:38.077093Z",
     "iopub.status.idle": "2021-11-06T13:26:38.479232Z",
     "shell.execute_reply": "2021-11-06T13:26:38.480339Z",
     "shell.execute_reply.started": "2021-11-06T13:15:37.794048Z"
    },
    "papermill": {
     "duration": 0.4472,
     "end_time": "2021-11-06T13:26:38.480679",
     "exception": false,
     "start_time": "2021-11-06T13:26:38.033479",
     "status": "completed"
    },
    "tags": []
   },
   "outputs": [
    {
     "name": "stdout",
     "output_type": "stream",
     "text": [
      "Open\n",
      "ADF Statistic: 1.453045\n",
      "p-value: 0.997342\n",
      "Failed to Reject Ho - Time Series is Non-Stationary\n",
      "\n",
      "\n",
      "High\n",
      "ADF Statistic: 1.314752\n",
      "p-value: 0.996690\n",
      "Failed to Reject Ho - Time Series is Non-Stationary\n",
      "\n",
      "\n",
      "Low\n",
      "ADF Statistic: 1.258677\n",
      "p-value: 0.996367\n",
      "Failed to Reject Ho - Time Series is Non-Stationary\n",
      "\n",
      "\n",
      "Volume\n",
      "ADF Statistic: -7.391433\n",
      "p-value: 0.000000\n",
      "Reject Ho - Time Series is Stationary\n",
      "\n",
      "\n",
      "Close\n",
      "ADF Statistic: 1.344565\n",
      "p-value: 0.996847\n",
      "Failed to Reject Ho - Time Series is Non-Stationary\n",
      "\n",
      "\n"
     ]
    }
   ],
   "source": [
    "for i in train.columns[1:]:\n",
    "    adfTest(train, i)"
   ]
  },
  {
   "cell_type": "markdown",
   "metadata": {
    "papermill": {
     "duration": 0.057682,
     "end_time": "2021-11-06T13:26:38.613084",
     "exception": false,
     "start_time": "2021-11-06T13:26:38.555402",
     "status": "completed"
    },
    "tags": []
   },
   "source": [
    "As we can see, except volume, all columns are non stationary"
   ]
  },
  {
   "cell_type": "code",
   "execution_count": 13,
   "metadata": {
    "execution": {
     "iopub.execute_input": "2021-11-06T13:26:38.700213Z",
     "iopub.status.busy": "2021-11-06T13:26:38.699384Z",
     "iopub.status.idle": "2021-11-06T13:26:39.519618Z",
     "shell.execute_reply": "2021-11-06T13:26:39.518839Z",
     "shell.execute_reply.started": "2021-11-06T13:15:38.206900Z"
    },
    "papermill": {
     "duration": 0.866468,
     "end_time": "2021-11-06T13:26:39.519802",
     "exception": false,
     "start_time": "2021-11-06T13:26:38.653334",
     "status": "completed"
    },
    "tags": []
   },
   "outputs": [
    {
     "name": "stdout",
     "output_type": "stream",
     "text": [
      "Open\n"
     ]
    },
    {
     "data": {
      "image/png": "[encoded data removed]",
      "text/plain": [
       "<Figure size 432x288 with 1 Axes>"
      ]
     },
     "metadata": {
      "needs_background": "light"
     },
     "output_type": "display_data"
    },
    {
     "name": "stdout",
     "output_type": "stream",
     "text": [
      "High\n"
     ]
    },
    {
     "data": {
      "image/png": "[encoded data removed]",
      "text/plain": [
       "<Figure size 432x288 with 1 Axes>"
      ]
     },
     "metadata": {
      "needs_background": "light"
     },
     "output_type": "display_data"
    },
    {
     "name": "stdout",
     "output_type": "stream",
     "text": [
      "Low\n"
     ]
    },
    {
     "data": {
      "image/png": "[encoded data removed]",
      "text/plain": [
       "<Figure size 432x288 with 1 Axes>"
      ]
     },
     "metadata": {
      "needs_background": "light"
     },
     "output_type": "display_data"
    },
    {
     "name": "stdout",
     "output_type": "stream",
     "text": [
      "Volume\n"
     ]
    },
    {
     "data": {
      "image/png": "[encoded data removed]",
      "text/plain": [
       "<Figure size 432x288 with 1 Axes>"
      ]
     },
     "metadata": {
      "needs_background": "light"
     },
     "output_type": "display_data"
    }
   ],
   "source": [
    "#making plots of all columns\n",
    "for i in train.columns[1:-1]:\n",
    "    print(i)\n",
    "    plt.plot(train[i])\n",
    "    plt.show()"
   ]
  },
  {
   "cell_type": "code",
   "execution_count": 14,
   "metadata": {
    "execution": {
     "iopub.execute_input": "2021-11-06T13:26:39.620766Z",
     "iopub.status.busy": "2021-11-06T13:26:39.619710Z",
     "iopub.status.idle": "2021-11-06T13:26:39.805596Z",
     "shell.execute_reply": "2021-11-06T13:26:39.806151Z",
     "shell.execute_reply.started": "2021-11-06T13:15:38.984111Z"
    },
    "papermill": {
     "duration": 0.241677,
     "end_time": "2021-11-06T13:26:39.806350",
     "exception": false,
     "start_time": "2021-11-06T13:26:39.564673",
     "status": "completed"
    },
    "tags": []
   },
   "outputs": [
    {
     "data": {
      "text/plain": [
       "<matplotlib.lines.Line2D at 0x25f73733cc8>"
      ]
     },
     "execution_count": 14,
     "metadata": {},
     "output_type": "execute_result"
    },
    {
     "data": {
      "image/png": "[encoded data removed]",
      "text/plain": [
       "<Figure size 432x288 with 1 Axes>"
      ]
     },
     "metadata": {
      "needs_background": "light"
     },
     "output_type": "display_data"
    }
   ],
   "source": [
    "plt.plot(train['Close'])\n",
    "plt.title(\"Closing Price Of Waystar Royco\")\n",
    "plt.ylabel('Closing Price')\n",
    "plt.axhline(train['Close'].mean(),color='r',alpha=0.5)"
   ]
  },
  {
   "cell_type": "code",
   "execution_count": null,
   "metadata": {
    "papermill": {
     "duration": 0.045481,
     "end_time": "2021-11-06T13:26:39.897889",
     "exception": false,
     "start_time": "2021-11-06T13:26:39.852408",
     "status": "completed"
    },
    "tags": []
   },
   "outputs": [],
   "source": []
  },
  {
   "cell_type": "markdown",
   "metadata": {
    "papermill": {
     "duration": 0.04539,
     "end_time": "2021-11-06T13:26:39.989321",
     "exception": false,
     "start_time": "2021-11-06T13:26:39.943931",
     "status": "completed"
    },
    "tags": []
   },
   "source": [
    "**ACF and PACF**"
   ]
  },
  {
   "cell_type": "code",
   "execution_count": 15,
   "metadata": {
    "execution": {
     "iopub.execute_input": "2021-11-06T13:26:40.089211Z",
     "iopub.status.busy": "2021-11-06T13:26:40.088092Z",
     "iopub.status.idle": "2021-11-06T13:26:40.092699Z",
     "shell.execute_reply": "2021-11-06T13:26:40.092091Z",
     "shell.execute_reply.started": "2021-11-06T13:15:39.243577Z"
    },
    "papermill": {
     "duration": 0.057033,
     "end_time": "2021-11-06T13:26:40.092860",
     "exception": false,
     "start_time": "2021-11-06T13:26:40.035827",
     "status": "completed"
    },
    "tags": []
   },
   "outputs": [],
   "source": [
    "from statsmodels.graphics.tsaplots import plot_acf, plot_pacf"
   ]
  },
  {
   "cell_type": "markdown",
   "metadata": {
    "papermill": {
     "duration": 0.04987,
     "end_time": "2021-11-06T13:26:40.191037",
     "exception": false,
     "start_time": "2021-11-06T13:26:40.141167",
     "status": "completed"
    },
    "tags": []
   },
   "source": [
    "ACF"
   ]
  },
  {
   "cell_type": "code",
   "execution_count": 16,
   "metadata": {
    "execution": {
     "iopub.execute_input": "2021-11-06T13:26:40.319300Z",
     "iopub.status.busy": "2021-11-06T13:26:40.318009Z",
     "iopub.status.idle": "2021-11-06T13:26:41.297540Z",
     "shell.execute_reply": "2021-11-06T13:26:41.296749Z",
     "shell.execute_reply.started": "2021-11-06T13:15:39.251037Z"
    },
    "papermill": {
     "duration": 1.059699,
     "end_time": "2021-11-06T13:26:41.297724",
     "exception": false,
     "start_time": "2021-11-06T13:26:40.238025",
     "status": "completed"
    },
    "tags": []
   },
   "outputs": [
    {
     "name": "stdout",
     "output_type": "stream",
     "text": [
      "Open\n",
      "High\n",
      "Low\n",
      "Volume\n",
      "Close\n"
     ]
    },
    {
     "data": {
      "image/png": "[encoded data removed]",
      "text/plain": [
       "<Figure size 432x288 with 1 Axes>"
      ]
     },
     "metadata": {
      "needs_background": "light"
     },
     "output_type": "display_data"
    },
    {
     "data": {
      "image/png": "[encoded data removed]",
      "text/plain": [
       "<Figure size 432x288 with 1 Axes>"
      ]
     },
     "metadata": {
      "needs_background": "light"
     },
     "output_type": "display_data"
    },
    {
     "data": {
      "image/png": "[encoded data removed]",
      "text/plain": [
       "<Figure size 432x288 with 1 Axes>"
      ]
     },
     "metadata": {
      "needs_background": "light"
     },
     "output_type": "display_data"
    },
    {
     "data": {
      "image/png": "[encoded data removed]",
      "text/plain": [
       "<Figure size 432x288 with 1 Axes>"
      ]
     },
     "metadata": {
      "needs_background": "light"
     },
     "output_type": "display_data"
    },
    {
     "data": {
      "image/png": "[encoded data removed]",
      "text/plain": [
       "<Figure size 432x288 with 1 Axes>"
      ]
     },
     "metadata": {
      "needs_background": "light"
     },
     "output_type": "display_data"
    }
   ],
   "source": [
    "for i in train.columns[1:]:\n",
    "    print(i)\n",
    "    acf = plot_acf(train[i], lags = 20)"
   ]
  },
  {
   "cell_type": "markdown",
   "metadata": {
    "papermill": {
     "duration": 0.050146,
     "end_time": "2021-11-06T13:26:41.404854",
     "exception": false,
     "start_time": "2021-11-06T13:26:41.354708",
     "status": "completed"
    },
    "tags": []
   },
   "source": [
    "PACF"
   ]
  },
  {
   "cell_type": "code",
   "execution_count": 17,
   "metadata": {
    "execution": {
     "iopub.execute_input": "2021-11-06T13:26:41.520820Z",
     "iopub.status.busy": "2021-11-06T13:26:41.509681Z",
     "iopub.status.idle": "2021-11-06T13:26:42.556977Z",
     "shell.execute_reply": "2021-11-06T13:26:42.556234Z",
     "shell.execute_reply.started": "2021-11-06T13:15:40.227180Z"
    },
    "papermill": {
     "duration": 1.101369,
     "end_time": "2021-11-06T13:26:42.557157",
     "exception": false,
     "start_time": "2021-11-06T13:26:41.455788",
     "status": "completed"
    },
    "tags": []
   },
   "outputs": [
    {
     "name": "stdout",
     "output_type": "stream",
     "text": [
      "Open\n",
      "High\n",
      "Low\n",
      "Volume\n",
      "Close\n"
     ]
    },
    {
     "data": {
      "image/png": "[encoded data removed]",
      "text/plain": [
       "<Figure size 432x288 with 1 Axes>"
      ]
     },
     "metadata": {
      "needs_background": "light"
     },
     "output_type": "display_data"
    },
    {
     "data": {
      "image/png": "[encoded data removed]",
      "text/plain": [
       "<Figure size 432x288 with 1 Axes>"
      ]
     },
     "metadata": {
      "needs_background": "light"
     },
     "output_type": "display_data"
    },
    {
     "data": {
      "image/png": "[encoded data removed]",
      "text/plain": [
       "<Figure size 432x288 with 1 Axes>"
      ]
     },
     "metadata": {
      "needs_background": "light"
     },
     "output_type": "display_data"
    },
    {
     "data": {
      "image/png": "[encoded data removed]",
      "text/plain": [
       "<Figure size 432x288 with 1 Axes>"
      ]
     },
     "metadata": {
      "needs_background": "light"
     },
     "output_type": "display_data"
    },
    {
     "data": {
      "image/png": "[encoded data removed]",
      "text/plain": [
       "<Figure size 432x288 with 1 Axes>"
      ]
     },
     "metadata": {
      "needs_background": "light"
     },
     "output_type": "display_data"
    }
   ],
   "source": [
    "for i in train.columns[1:]:\n",
    "    print(i)\n",
    "    pacf = plot_pacf(train[i], lags = 20)"
   ]
  },
  {
   "cell_type": "markdown",
   "metadata": {
    "papermill": {
     "duration": 0.054731,
     "end_time": "2021-11-06T13:26:42.665933",
     "exception": false,
     "start_time": "2021-11-06T13:26:42.611202",
     "status": "completed"
    },
    "tags": []
   },
   "source": [
    "**Models**"
   ]
  },
  {
   "cell_type": "markdown",
   "metadata": {
    "papermill": {
     "duration": 0.053117,
     "end_time": "2021-11-06T13:26:42.772997",
     "exception": false,
     "start_time": "2021-11-06T13:26:42.719880",
     "status": "completed"
    },
    "tags": []
   },
   "source": [
    "Although there are only a few models below, we did experimnet with several other models as indicated in our submissions such as Lasso, MLR with column sums, MLR with log transform, RNNs, Vector Auto Regression, etc. We also experimented with several parameters for our models, as well as isolate certain columns to make predictions"
   ]
  },
  {
   "cell_type": "markdown",
   "metadata": {
    "papermill": {
     "duration": 0.054332,
     "end_time": "2021-11-06T13:26:42.880574",
     "exception": false,
     "start_time": "2021-11-06T13:26:42.826242",
     "status": "completed"
    },
    "tags": []
   },
   "source": [
    "We found that the volume column created a lot of noise in many models so we omitted it"
   ]
  },
  {
   "cell_type": "markdown",
   "metadata": {
    "papermill": {
     "duration": 0.053264,
     "end_time": "2021-11-06T13:26:42.987318",
     "exception": false,
     "start_time": "2021-11-06T13:26:42.934054",
     "status": "completed"
    },
    "tags": []
   },
   "source": [
    "Multiple Linear Regression Only"
   ]
  },
  {
   "cell_type": "markdown",
   "metadata": {
    "papermill": {
     "duration": 0.06545,
     "end_time": "2021-11-06T13:26:43.109773",
     "exception": false,
     "start_time": "2021-11-06T13:26:43.044323",
     "status": "completed"
    },
    "tags": []
   },
   "source": [
    "We have omitted volume in all except ARIMA as it mostly created noise"
   ]
  },
  {
   "cell_type": "code",
   "execution_count": 18,
   "metadata": {
    "execution": {
     "iopub.execute_input": "2021-11-06T13:26:43.241656Z",
     "iopub.status.busy": "2021-11-06T13:26:43.240932Z",
     "iopub.status.idle": "2021-11-06T13:26:43.247940Z",
     "shell.execute_reply": "2021-11-06T13:26:43.248584Z",
     "shell.execute_reply.started": "2021-11-06T13:15:41.446635Z"
    },
    "papermill": {
     "duration": 0.07744,
     "end_time": "2021-11-06T13:26:43.248762",
     "exception": false,
     "start_time": "2021-11-06T13:26:43.171322",
     "status": "completed"
    },
    "tags": []
   },
   "outputs": [],
   "source": [
    "# Training and testing data\n",
    "X_train= train.iloc[:,1:-2].values\n",
    "y_train= train.iloc[:,-1].values\n",
    "X_test= test.iloc[:,1:-2].values"
   ]
  },
  {
   "cell_type": "code",
   "execution_count": 19,
   "metadata": {
    "execution": {
     "iopub.execute_input": "2021-11-06T13:26:43.370250Z",
     "iopub.status.busy": "2021-11-06T13:26:43.369390Z",
     "iopub.status.idle": "2021-11-06T13:26:43.636282Z",
     "shell.execute_reply": "2021-11-06T13:26:43.635426Z",
     "shell.execute_reply.started": "2021-11-06T13:15:41.455862Z"
    },
    "papermill": {
     "duration": 0.330035,
     "end_time": "2021-11-06T13:26:43.636494",
     "exception": false,
     "start_time": "2021-11-06T13:26:43.306459",
     "status": "completed"
    },
    "tags": []
   },
   "outputs": [],
   "source": [
    "from sklearn.linear_model import LinearRegression"
   ]
  },
  {
   "cell_type": "code",
   "execution_count": 20,
   "metadata": {
    "execution": {
     "iopub.execute_input": "2021-11-06T13:26:43.755610Z",
     "iopub.status.busy": "2021-11-06T13:26:43.754873Z",
     "iopub.status.idle": "2021-11-06T13:26:43.763480Z",
     "shell.execute_reply": "2021-11-06T13:26:43.762883Z",
     "shell.execute_reply.started": "2021-11-06T13:15:41.476268Z"
    },
    "papermill": {
     "duration": 0.06861,
     "end_time": "2021-11-06T13:26:43.763626",
     "exception": false,
     "start_time": "2021-11-06T13:26:43.695016",
     "status": "completed"
    },
    "tags": []
   },
   "outputs": [
    {
     "name": "stdout",
     "output_type": "stream",
     "text": [
      "[295.96557506 296.48214133 298.75885568 298.35691185 298.59370672\n",
      " 297.74037338 297.07234726 298.14946675 297.28196727 301.39488875\n",
      " 302.53137911 303.26541326 306.02027479 300.6690965  298.99648768\n",
      " 300.49728026 303.92614759 305.60819635 302.38492795 301.58136798\n",
      " 300.93570742 309.62442942 308.39961844 313.30256959 311.83709969\n",
      " 312.80485747 317.67971563 314.55091034 314.59752657 306.51724539]\n"
     ]
    }
   ],
   "source": [
    "# Fitting Data and making predictions\n",
    "regressor = LinearRegression(normalize=True)\n",
    "regressor.fit(X_train, y_train)\n",
    "y_pred = regressor.predict(X_test)\n",
    "print(y_pred)"
   ]
  },
  {
   "cell_type": "code",
   "execution_count": 21,
   "metadata": {
    "execution": {
     "iopub.execute_input": "2021-11-06T13:26:43.881395Z",
     "iopub.status.busy": "2021-11-06T13:26:43.880609Z",
     "iopub.status.idle": "2021-11-06T13:26:43.888902Z",
     "shell.execute_reply": "2021-11-06T13:26:43.889596Z",
     "shell.execute_reply.started": "2021-11-06T13:15:41.718617Z"
    },
    "papermill": {
     "duration": 0.069546,
     "end_time": "2021-11-06T13:26:43.889780",
     "exception": false,
     "start_time": "2021-11-06T13:26:43.820234",
     "status": "completed"
    },
    "tags": []
   },
   "outputs": [],
   "source": [
    "submission=pd.DataFrame({\n",
    "    'Date':test.iloc[:,0].values,\n",
    "    'Close':y_pred\n",
    "})\n",
    "submission.to_csv('./submissionMLR.csv',index=False)\n",
    "# RMSE Obtained 1.76431"
   ]
  },
  {
   "cell_type": "markdown",
   "metadata": {
    "papermill": {
     "duration": 0.054105,
     "end_time": "2021-11-06T13:26:43.998320",
     "exception": false,
     "start_time": "2021-11-06T13:26:43.944215",
     "status": "completed"
    },
    "tags": []
   },
   "source": [
    "ARIMA"
   ]
  },
  {
   "cell_type": "markdown",
   "metadata": {
    "papermill": {
     "duration": 0.054168,
     "end_time": "2021-11-06T13:26:44.108862",
     "exception": false,
     "start_time": "2021-11-06T13:26:44.054694",
     "status": "completed"
    },
    "tags": []
   },
   "source": [
    "We chose to experiment with ARIMA due to the non stationary nature of the columns, and experimented with several orders"
   ]
  },
  {
   "cell_type": "code",
   "execution_count": 22,
   "metadata": {
    "execution": {
     "iopub.execute_input": "2021-11-06T13:26:44.222092Z",
     "iopub.status.busy": "2021-11-06T13:26:44.221474Z",
     "iopub.status.idle": "2021-11-06T13:26:44.224631Z",
     "shell.execute_reply": "2021-11-06T13:26:44.225226Z",
     "shell.execute_reply.started": "2021-11-06T13:15:41.730256Z"
    },
    "papermill": {
     "duration": 0.061956,
     "end_time": "2021-11-06T13:26:44.225387",
     "exception": false,
     "start_time": "2021-11-06T13:26:44.163431",
     "status": "completed"
    },
    "tags": []
   },
   "outputs": [],
   "source": [
    "from statsmodels.tsa.arima_model import ARIMA"
   ]
  },
  {
   "cell_type": "code",
   "execution_count": 23,
   "metadata": {
    "execution": {
     "iopub.execute_input": "2021-11-06T13:26:44.343829Z",
     "iopub.status.busy": "2021-11-06T13:26:44.343033Z",
     "iopub.status.idle": "2021-11-06T13:26:44.353612Z",
     "shell.execute_reply": "2021-11-06T13:26:44.352747Z",
     "shell.execute_reply.started": "2021-11-06T13:15:41.742513Z"
    },
    "papermill": {
     "duration": 0.072253,
     "end_time": "2021-11-06T13:26:44.353790",
     "exception": false,
     "start_time": "2021-11-06T13:26:44.281537",
     "status": "completed"
    },
    "tags": []
   },
   "outputs": [],
   "source": [
    "arima = ARIMA(train.Close,order = (1,1,1)) #Initializing model and orders"
   ]
  },
  {
   "cell_type": "code",
   "execution_count": 24,
   "metadata": {
    "execution": {
     "iopub.execute_input": "2021-11-06T13:26:44.471603Z",
     "iopub.status.busy": "2021-11-06T13:26:44.470801Z",
     "iopub.status.idle": "2021-11-06T13:26:44.705651Z",
     "shell.execute_reply": "2021-11-06T13:26:44.706123Z",
     "shell.execute_reply.started": "2021-11-06T13:15:41.758749Z"
    },
    "papermill": {
     "duration": 0.296773,
     "end_time": "2021-11-06T13:26:44.706328",
     "exception": false,
     "start_time": "2021-11-06T13:26:44.409555",
     "status": "completed"
    },
    "tags": []
   },
   "outputs": [],
   "source": [
    "arima = arima.fit() #fitting data"
   ]
  },
  {
   "cell_type": "code",
   "execution_count": 25,
   "metadata": {
    "execution": {
     "iopub.execute_input": "2021-11-06T13:26:44.827222Z",
     "iopub.status.busy": "2021-11-06T13:26:44.824905Z",
     "iopub.status.idle": "2021-11-06T13:26:44.865660Z",
     "shell.execute_reply": "2021-11-06T13:26:44.864835Z",
     "shell.execute_reply.started": "2021-11-06T13:15:42.015270Z"
    },
    "papermill": {
     "duration": 0.101122,
     "end_time": "2021-11-06T13:26:44.865862",
     "exception": false,
     "start_time": "2021-11-06T13:26:44.764740",
     "status": "completed"
    },
    "tags": []
   },
   "outputs": [
    {
     "data": {
      "text/html": [
       "<table class=\"simpletable\">\n",
       "<caption>ARIMA Model Results</caption>\n",
       "<tr>\n",
       "  <th>Dep. Variable:</th>      <td>D.Close</td>     <th>  No. Observations:  </th>   <td>1499</td>   \n",
       "</tr>\n",
       "<tr>\n",
       "  <th>Model:</th>          <td>ARIMA(1, 1, 1)</td>  <th>  Log Likelihood     </th> <td>-3622.709</td>\n",
       "</tr>\n",
       "<tr>\n",
       "  <th>Method:</th>             <td>css-mle</td>     <th>  S.D. of innovations</th>   <td>2.712</td>  \n",
       "</tr>\n",
       "<tr>\n",
       "  <th>Date:</th>          <td>Fri, 19 Nov 2021</td> <th>  AIC                </th> <td>7253.418</td> \n",
       "</tr>\n",
       "<tr>\n",
       "  <th>Time:</th>              <td>15:55:45</td>     <th>  BIC                </th> <td>7274.669</td> \n",
       "</tr>\n",
       "<tr>\n",
       "  <th>Sample:</th>                <td>1</td>        <th>  HQIC               </th> <td>7261.335</td> \n",
       "</tr>\n",
       "<tr>\n",
       "  <th></th>                       <td> </td>        <th>                     </th>     <td> </td>    \n",
       "</tr>\n",
       "</table>\n",
       "<table class=\"simpletable\">\n",
       "<tr>\n",
       "        <td></td>           <th>coef</th>     <th>std err</th>      <th>z</th>      <th>P>|z|</th>  <th>[0.025</th>    <th>0.975]</th>  \n",
       "</tr>\n",
       "<tr>\n",
       "  <th>const</th>         <td>    0.1584</td> <td>    0.064</td> <td>    2.459</td> <td> 0.014</td> <td>    0.032</td> <td>    0.285</td>\n",
       "</tr>\n",
       "<tr>\n",
       "  <th>ar.L1.D.Close</th> <td>   -0.3678</td> <td>    0.199</td> <td>   -1.846</td> <td> 0.065</td> <td>   -0.758</td> <td>    0.023</td>\n",
       "</tr>\n",
       "<tr>\n",
       "  <th>ma.L1.D.Close</th> <td>    0.2576</td> <td>    0.207</td> <td>    1.244</td> <td> 0.213</td> <td>   -0.148</td> <td>    0.663</td>\n",
       "</tr>\n",
       "</table>\n",
       "<table class=\"simpletable\">\n",
       "<caption>Roots</caption>\n",
       "<tr>\n",
       "    <td></td>   <th>            Real</th>  <th>         Imaginary</th> <th>         Modulus</th>  <th>        Frequency</th>\n",
       "</tr>\n",
       "<tr>\n",
       "  <th>AR.1</th> <td>          -2.7188</td> <td>          +0.0000j</td> <td>           2.7188</td> <td>           0.5000</td>\n",
       "</tr>\n",
       "<tr>\n",
       "  <th>MA.1</th> <td>          -3.8813</td> <td>          +0.0000j</td> <td>           3.8813</td> <td>           0.5000</td>\n",
       "</tr>\n",
       "</table>"
      ],
      "text/plain": [
       "<class 'statsmodels.iolib.summary.Summary'>\n",
       "\"\"\"\n",
       "                             ARIMA Model Results                              \n",
       "==============================================================================\n",
       "Dep. Variable:                D.Close   No. Observations:                 1499\n",
       "Model:                 ARIMA(1, 1, 1)   Log Likelihood               -3622.709\n",
       "Method:                       css-mle   S.D. of innovations              2.712\n",
       "Date:                Fri, 19 Nov 2021   AIC                           7253.418\n",
       "Time:                        15:55:45   BIC                           7274.669\n",
       "Sample:                             1   HQIC                          7261.335\n",
       "                                                                              \n",
       "=================================================================================\n",
       "                    coef    std err          z      P>|z|      [0.025      0.975]\n",
       "---------------------------------------------------------------------------------\n",
       "const             0.1584      0.064      2.459      0.014       0.032       0.285\n",
       "ar.L1.D.Close    -0.3678      0.199     -1.846      0.065      -0.758       0.023\n",
       "ma.L1.D.Close     0.2576      0.207      1.244      0.213      -0.148       0.663\n",
       "                                    Roots                                    \n",
       "=============================================================================\n",
       "                  Real          Imaginary           Modulus         Frequency\n",
       "-----------------------------------------------------------------------------\n",
       "AR.1           -2.7188           +0.0000j            2.7188            0.5000\n",
       "MA.1           -3.8813           +0.0000j            3.8813            0.5000\n",
       "-----------------------------------------------------------------------------\n",
       "\"\"\""
      ]
     },
     "execution_count": 25,
     "metadata": {},
     "output_type": "execute_result"
    }
   ],
   "source": [
    "arima.summary()"
   ]
  },
  {
   "cell_type": "code",
   "execution_count": 26,
   "metadata": {
    "execution": {
     "iopub.execute_input": "2021-11-06T13:26:44.990277Z",
     "iopub.status.busy": "2021-11-06T13:26:44.989473Z",
     "iopub.status.idle": "2021-11-06T13:26:44.995186Z",
     "shell.execute_reply": "2021-11-06T13:26:44.995788Z",
     "shell.execute_reply.started": "2021-11-06T13:15:42.058024Z"
    },
    "papermill": {
     "duration": 0.071102,
     "end_time": "2021-11-06T13:26:44.995986",
     "exception": false,
     "start_time": "2021-11-06T13:26:44.924884",
     "status": "completed"
    },
    "tags": []
   },
   "outputs": [
    {
     "data": {
      "text/plain": [
       "array([295.80263864, 296.03458434, 296.16591584, 296.3342548 ,\n",
       "       296.48898184, 296.64871556, 296.80660774, 296.96517727,\n",
       "       297.12349766, 297.28190969, 297.44028801, 297.59867873,\n",
       "       297.75706489, 297.91545273, 298.07383995, 298.23222739,\n",
       "       298.39061475, 298.54900215, 298.70738953, 298.86577692,\n",
       "       299.0241643 , 299.18255169, 299.34093907, 299.49932646,\n",
       "       299.65771384, 299.81610123, 299.97448861, 300.132876  ,\n",
       "       300.29126338, 300.44965077])"
      ]
     },
     "execution_count": 26,
     "metadata": {},
     "output_type": "execute_result"
    }
   ],
   "source": [
    "test_data,se,conf = arima.forecast(len(test),alpha = 0.05)\n",
    "test_data"
   ]
  },
  {
   "cell_type": "code",
   "execution_count": 27,
   "metadata": {
    "execution": {
     "iopub.execute_input": "2021-11-06T13:26:45.116971Z",
     "iopub.status.busy": "2021-11-06T13:26:45.114431Z",
     "iopub.status.idle": "2021-11-06T13:26:45.121273Z",
     "shell.execute_reply": "2021-11-06T13:26:45.121845Z",
     "shell.execute_reply.started": "2021-11-06T13:15:42.364510Z"
    },
    "papermill": {
     "duration": 0.068845,
     "end_time": "2021-11-06T13:26:45.122054",
     "exception": false,
     "start_time": "2021-11-06T13:26:45.053209",
     "status": "completed"
    },
    "tags": []
   },
   "outputs": [],
   "source": [
    "#ARIMA\n",
    "submission=pd.DataFrame({\n",
    "    'Date':test.iloc[:,0].values,\n",
    "    'Close':test_data\n",
    "})\n",
    "submission.to_csv('./submissionARIMA.csv',index=False)\n",
    "# RMSE Obtained 7.80518"
   ]
  },
  {
   "cell_type": "markdown",
   "metadata": {
    "papermill": {
     "duration": 0.057511,
     "end_time": "2021-11-06T13:26:45.236894",
     "exception": false,
     "start_time": "2021-11-06T13:26:45.179383",
     "status": "completed"
    },
    "tags": []
   },
   "source": [
    "**MLR + Smoothing**"
   ]
  },
  {
   "cell_type": "markdown",
   "metadata": {
    "papermill": {
     "duration": 0.058015,
     "end_time": "2021-11-06T13:26:45.352338",
     "exception": false,
     "start_time": "2021-11-06T13:26:45.294323",
     "status": "completed"
    },
    "tags": []
   },
   "source": [
    "To make things simple, we decided to experiment with exponential smoothing \n"
   ]
  },
  {
   "cell_type": "code",
   "execution_count": 28,
   "metadata": {
    "execution": {
     "iopub.execute_input": "2021-11-06T13:26:45.501534Z",
     "iopub.status.busy": "2021-11-06T13:26:45.496127Z",
     "iopub.status.idle": "2021-11-06T13:26:45.662207Z",
     "shell.execute_reply": "2021-11-06T13:26:45.661439Z",
     "shell.execute_reply.started": "2021-11-06T13:25:07.906690Z"
    },
    "papermill": {
     "duration": 0.238345,
     "end_time": "2021-11-06T13:26:45.662376",
     "exception": false,
     "start_time": "2021-11-06T13:26:45.424031",
     "status": "completed"
    },
    "tags": []
   },
   "outputs": [
    {
     "data": {
      "text/plain": [
       "[<matplotlib.lines.Line2D at 0x25f73ddf708>]"
      ]
     },
     "execution_count": 28,
     "metadata": {},
     "output_type": "execute_result"
    },
    {
     "data": {
      "image/png": "[encoded data removed]",
      "text/plain": [
       "<Figure size 432x288 with 1 Axes>"
      ]
     },
     "metadata": {
      "needs_background": "light"
     },
     "output_type": "display_data"
    }
   ],
   "source": [
    "plt.plot(y_pred)"
   ]
  },
  {
   "cell_type": "markdown",
   "metadata": {
    "papermill": {
     "duration": 0.059938,
     "end_time": "2021-11-06T13:26:45.781384",
     "exception": false,
     "start_time": "2021-11-06T13:26:45.721446",
     "status": "completed"
    },
    "tags": []
   },
   "source": [
    "as we can see, y_pred has a trend but no seasonality\n",
    "so we decided to use single and double exponential smoothing in the experiment"
   ]
  },
  {
   "cell_type": "markdown",
   "metadata": {
    "papermill": {
     "duration": 0.058548,
     "end_time": "2021-11-06T13:26:45.899864",
     "exception": false,
     "start_time": "2021-11-06T13:26:45.841316",
     "status": "completed"
    },
    "tags": []
   },
   "source": [
    "The next part of the code assumes that the values predicted via MLR are Y_actual. We use this to perform various forms of exponential smoothing"
   ]
  },
  {
   "cell_type": "code",
   "execution_count": 29,
   "metadata": {
    "execution": {
     "iopub.execute_input": "2021-11-06T13:26:46.022108Z",
     "iopub.status.busy": "2021-11-06T13:26:46.021418Z",
     "iopub.status.idle": "2021-11-06T13:26:46.029799Z",
     "shell.execute_reply": "2021-11-06T13:26:46.029130Z",
     "shell.execute_reply.started": "2021-11-06T13:15:42.375548Z"
    },
    "papermill": {
     "duration": 0.070835,
     "end_time": "2021-11-06T13:26:46.029957",
     "exception": false,
     "start_time": "2021-11-06T13:26:45.959122",
     "status": "completed"
    },
    "tags": []
   },
   "outputs": [
    {
     "data": {
      "text/plain": [
       "array([295.96557506, 296.4304847 , 298.52601858, 298.37382252,\n",
       "       298.5717183 , 297.82350787, 297.14746332, 298.04926641,\n",
       "       297.35869718, 300.99126959, 302.37736816, 303.17660875,\n",
       "       305.73590818, 301.17577767, 299.21441668, 300.3689939 ,\n",
       "       303.57043223, 305.40441993, 302.68687715, 301.6919189 ,\n",
       "       301.01132857, 308.76311933, 308.43596853, 312.81590948,\n",
       "       311.93498067, 312.71786979, 317.18353104, 314.81417241,\n",
       "       314.61919116, 307.32743996])"
      ]
     },
     "execution_count": 29,
     "metadata": {},
     "output_type": "execute_result"
    }
   ],
   "source": [
    "#Simple Exponential Smoothing\n",
    "y_actual = y_pred[0]\n",
    "f_predicted = y_actual\n",
    "alpha = 0.9\n",
    "simpleSmoothing = list()\n",
    "for i in range(len(y_pred)):\n",
    "    f_predicted = y_pred[i]*alpha + (1-alpha)*f_predicted\n",
    "    simpleSmoothing.append(f_predicted)\n",
    "    \n",
    "np.array(simpleSmoothing)"
   ]
  },
  {
   "cell_type": "code",
   "execution_count": 30,
   "metadata": {
    "execution": {
     "iopub.execute_input": "2021-11-06T13:26:46.154202Z",
     "iopub.status.busy": "2021-11-06T13:26:46.153367Z",
     "iopub.status.idle": "2021-11-06T13:26:46.160999Z",
     "shell.execute_reply": "2021-11-06T13:26:46.161556Z",
     "shell.execute_reply.started": "2021-11-06T13:15:42.390533Z"
    },
    "papermill": {
     "duration": 0.071779,
     "end_time": "2021-11-06T13:26:46.161776",
     "exception": false,
     "start_time": "2021-11-06T13:26:46.089997",
     "status": "completed"
    },
    "tags": []
   },
   "outputs": [],
   "source": [
    "# Simple Exponential Smoothing Only\n",
    "submission=pd.DataFrame({\n",
    "    'Date':test.iloc[:,0].values,\n",
    "    'Close':simpleSmoothing\n",
    "})\n",
    "submission.to_csv('./submissionSimpleSmoothing.csv',index=False)"
   ]
  },
  {
   "cell_type": "code",
   "execution_count": 31,
   "metadata": {
    "execution": {
     "iopub.execute_input": "2021-11-06T13:26:46.292867Z",
     "iopub.status.busy": "2021-11-06T13:26:46.289787Z",
     "iopub.status.idle": "2021-11-06T13:26:46.296971Z",
     "shell.execute_reply": "2021-11-06T13:26:46.296287Z",
     "shell.execute_reply.started": "2021-11-06T13:15:42.404967Z"
    },
    "papermill": {
     "duration": 0.075022,
     "end_time": "2021-11-06T13:26:46.297182",
     "exception": false,
     "start_time": "2021-11-06T13:26:46.222160",
     "status": "completed"
    },
    "tags": []
   },
   "outputs": [
    {
     "data": {
      "text/plain": [
       "array([296.06557506, 296.80292145, 300.15793757, 298.99704353,\n",
       "       298.83996732, 297.36351551, 296.43121082, 298.38988914,\n",
       "       297.10701666, 303.38171816, 304.49631604, 304.49293781,\n",
       "       307.93419765, 298.88524946, 296.54508677, 300.15166573,\n",
       "       305.9762278 , 307.84066807, 301.68905426, 300.28284656,\n",
       "       299.97243363, 313.84199948, 310.69792613, 316.4371002 ,\n",
       "       312.79409438, 313.30755655, 320.50073532, 314.6557387 ,\n",
       "       314.07652001, 301.98400206])"
      ]
     },
     "execution_count": 31,
     "metadata": {},
     "output_type": "execute_result"
    }
   ],
   "source": [
    "#Double Exponential Smoothing\n",
    "alpha = 0.9\n",
    "beta = 0.7\n",
    "Tt = 0.1\n",
    "Ft = y_pred[0]\n",
    "AFt = Ft + Tt\n",
    "doubleSmoothing = list()\n",
    "doubleSmoothing.append(AFt)\n",
    "for i in range(1,len(y_pred)):\n",
    "    prev_Ft = Ft\n",
    "    prev_Tt = Tt\n",
    "    Ft = alpha*y_pred[i] + (1 - alpha)*AFt\n",
    "    Tt = beta*(Ft - prev_Ft) + (1 - beta)*prev_Tt\n",
    "    AFt = Ft + Tt\n",
    "    doubleSmoothing.append(AFt)\n",
    "    \n",
    "np.array(doubleSmoothing)"
   ]
  },
  {
   "cell_type": "code",
   "execution_count": 32,
   "metadata": {
    "execution": {
     "iopub.execute_input": "2021-11-06T13:26:46.422536Z",
     "iopub.status.busy": "2021-11-06T13:26:46.421798Z",
     "iopub.status.idle": "2021-11-06T13:26:46.429054Z",
     "shell.execute_reply": "2021-11-06T13:26:46.429851Z",
     "shell.execute_reply.started": "2021-11-06T13:15:42.420793Z"
    },
    "papermill": {
     "duration": 0.072532,
     "end_time": "2021-11-06T13:26:46.430162",
     "exception": false,
     "start_time": "2021-11-06T13:26:46.357630",
     "status": "completed"
    },
    "tags": []
   },
   "outputs": [],
   "source": [
    "# Double Exponential Smoothing Only\n",
    "submission=pd.DataFrame({\n",
    "    'Date':test.iloc[:,0].values,\n",
    "    'Close':doubleSmoothing\n",
    "})\n",
    "submission.to_csv('./submissionDoubleSmoothing.csv',index=False)"
   ]
  },
  {
   "cell_type": "code",
   "execution_count": 33,
   "metadata": {
    "execution": {
     "iopub.execute_input": "2021-11-06T13:26:46.559491Z",
     "iopub.status.busy": "2021-11-06T13:26:46.558694Z",
     "iopub.status.idle": "2021-11-06T13:26:46.560416Z",
     "shell.execute_reply": "2021-11-06T13:26:46.561021Z",
     "shell.execute_reply.started": "2021-11-06T13:15:42.435983Z"
    },
    "papermill": {
     "duration": 0.070661,
     "end_time": "2021-11-06T13:26:46.561252",
     "exception": false,
     "start_time": "2021-11-06T13:26:46.490591",
     "status": "completed"
    },
    "tags": []
   },
   "outputs": [],
   "source": [
    "# Average of results of Simple Exponential Smoothing, Double Exponential Smoothing and MLR\n",
    "submission=pd.DataFrame({\n",
    "    'Date':test.iloc[:,0].values,\n",
    "    'Close': (np.array(simpleSmoothing) + np.array(doubleSmoothing) + y_pred)/3\n",
    "})\n",
    "submission.to_csv('./submissionensemble1.csv',index=False)\n",
    "# RMSE obtained 1.63106 -> Final DataSet"
   ]
  },
  {
   "cell_type": "code",
   "execution_count": 34,
   "metadata": {
    "execution": {
     "iopub.execute_input": "2021-11-06T13:26:46.683386Z",
     "iopub.status.busy": "2021-11-06T13:26:46.682306Z",
     "iopub.status.idle": "2021-11-06T13:26:46.690068Z",
     "shell.execute_reply": "2021-11-06T13:26:46.690689Z",
     "shell.execute_reply.started": "2021-11-06T13:15:42.450818Z"
    },
    "papermill": {
     "duration": 0.070633,
     "end_time": "2021-11-06T13:26:46.690902",
     "exception": false,
     "start_time": "2021-11-06T13:26:46.620269",
     "status": "completed"
    },
    "tags": []
   },
   "outputs": [],
   "source": [
    "# Average of results of Double exponential smoothing and MLR\n",
    "submission=pd.DataFrame({\n",
    "    'Date':test.iloc[:,0].values,\n",
    "    'Close': (np.array(doubleSmoothing) + y_pred)/2\n",
    "})\n",
    "submission.to_csv('./submissionensemble2.csv',index=False)\n",
    "# RMSE obtained 1.64366"
   ]
  }
 ],
 "metadata": {
  "kernelspec": {
   "display_name": "Python 3",
   "language": "python",
   "name": "python3"
  },
  "language_info": {
   "codemirror_mode": {
    "name": "ipython",
    "version": 3
   },
   "file_extension": ".py",
   "mimetype": "text/x-python",
   "name": "python",
   "nbconvert_exporter": "python",
   "pygments_lexer": "ipython3",
   "version": "3.7.6"
  },
  "papermill": {
   "default_parameters": {},
   "duration": 22.577692,
   "end_time": "2021-11-06T13:26:47.866549",
   "environment_variables": {},
   "exception": null,
   "input_path": "__notebook__.ipynb",
   "output_path": "__notebook__.ipynb",
   "parameters": {},
   "start_time": "2021-11-06T13:26:25.288857",
   "version": "2.3.3"
  }
 },
 "nbformat": 4,
 "nbformat_minor": 5
}
